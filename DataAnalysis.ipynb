{
 "cells": [
  {
   "cell_type": "markdown",
   "id": "2c04a80f-e94d-43b0-8035-834a3b8c0307",
   "metadata": {},
   "source": [
    "### INMET INFO"
   ]
  },
  {
   "cell_type": "code",
   "execution_count": 2,
   "id": "ce2d9509-b427-49e7-a1b4-fbb932ab5d4d",
   "metadata": {},
   "outputs": [
    {
     "name": "stdout",
     "output_type": "stream",
     "text": [
      "2024-04-27 22:17:00,777 INFO sqlalchemy.engine.Engine select pg_catalog.version()\n",
      "2024-04-27 22:17:00,778 INFO sqlalchemy.engine.Engine [raw sql] {}\n",
      "2024-04-27 22:17:00,783 INFO sqlalchemy.engine.Engine select current_schema()\n",
      "2024-04-27 22:17:00,785 INFO sqlalchemy.engine.Engine [raw sql] {}\n",
      "2024-04-27 22:17:00,789 INFO sqlalchemy.engine.Engine show standard_conforming_strings\n",
      "2024-04-27 22:17:00,790 INFO sqlalchemy.engine.Engine [raw sql] {}\n",
      "2024-04-27 22:17:00,803 INFO sqlalchemy.engine.Engine BEGIN (implicit)\n",
      "2024-04-27 22:17:00,805 INFO sqlalchemy.engine.Engine SELECT DISTINCT \"INMET\".\"STATION\", \"INMET\".\"LATITUDE\", \"INMET\".\"LONGITUDE\" \n",
      "FROM \"INMET\"\n",
      "2024-04-27 22:17:00,806 INFO sqlalchemy.engine.Engine [generated in 0.00283s] {}\n",
      "2024-04-27 22:17:02,918 INFO sqlalchemy.engine.Engine ROLLBACK\n"
     ]
    }
   ],
   "source": [
    "import os\n",
    "import pandas as pd\n",
    "from ppt.config.database.tables import INMET\n",
    "from ppt.config.database.connector import (generate_database_engine,\n",
    "                                           generate_database_session)\n",
    "\n",
    "# Conectando ao banco postgres \n",
    "session = generate_database_session()\n",
    "conn = generate_database_engine()\n"
   ]
  },
  {
   "cell_type": "markdown",
   "id": "f8add1cc",
   "metadata": {},
   "source": [
    "## Encontrando Estações Metereologicas\n",
    "Para comparar a precipitação estimada por satélites com a precipitação real, primeiro precisamos extrair as coordenadas de todas as estações listadas na base de dados do INMET. Essas informações serão salvas em um arquivo Parquet. Em seguida, os dados dos satélites serão lidos e os valores correspondentes serão extraídos para outra tabela no banco de dados PostgreSQL. Neste caso, vou reduzir os pontos ecolhendo apenas estações dentro do estado de São Paulo."
   ]
  },
  {
   "cell_type": "code",
   "execution_count": 3,
   "id": "155742b8",
   "metadata": {},
   "outputs": [
    {
     "name": "stdout",
     "output_type": "stream",
     "text": [
      "                     STATION   LATITUDE  LONGITUDE\n",
      "0       FREDERICO WESTPHALEN -27.395556 -53.429444\n",
      "1                   ALMENARA -16.166667 -40.687778\n",
      "2          SAO JOAO DO PIAUI  -8.364444 -42.252500\n",
      "3     SAO LUIZ DO PARAITINGA -23.228333 -45.416944\n",
      "4                       UNAI -16.553889 -46.881944\n",
      "...                      ...        ...        ...\n",
      "1476               ARIQUEMES  -9.949001 -62.961873\n",
      "1477                  JAPIRA -23.773341 -50.180570\n",
      "1478                   AVARE -23.099722 -48.945556\n",
      "1479        CAMPINA DA LAGOA -24.570861 -52.800256\n",
      "1480                OIAPOQUE   3.813583 -51.862500\n",
      "\n",
      "[1481 rows x 3 columns]\n"
     ]
    }
   ],
   "source": [
    "# Importando estações e suas coordenadas\n",
    "query = session.query(INMET.STATION, INMET.LATITUDE, INMET.LONGITUDE).distinct()\n",
    "banco_inmet_unique = pd.read_sql_query(query.statement, conn)\n",
    "print(banco_inmet_unique)"
   ]
  },
  {
   "cell_type": "code",
   "execution_count": 7,
   "id": "9fae9dd8",
   "metadata": {},
   "outputs": [],
   "source": [
    "# Salvando todas as estações\n",
    "#banco_inmet_unique.to_csv(\"Files/stations_inmet.csv\")"
   ]
  },
  {
   "cell_type": "markdown",
   "id": "18b0b616",
   "metadata": {},
   "source": [
    "## Extraindo apenas as estações de SP\n",
    "Joguei os pontos disponiveis no banco para o arquivo stations_inmet.csv. Usando o QGIS fiz a interseção das estações dentro do estado de São Paulo."
   ]
  },
  {
   "cell_type": "code",
   "execution_count": 19,
   "id": "3e9b9113",
   "metadata": {},
   "outputs": [
    {
     "name": "stdout",
     "output_type": "stream",
     "text": [
      "                    STATION   LATITUDE  LONGITUDE\n",
      "0    SAO LUIZ DO PARAITINGA -23.228333 -45.416944\n",
      "1                  IBITINGA -21.855567 -48.799717\n",
      "2                  OURINHOS -22.948611 -49.894167\n",
      "3                  BERTIOGA -23.845000 -46.143056\n",
      "4               CASA BRANCA -21.779722 -47.079722\n",
      "..                      ...        ...        ...\n",
      "104          JOSE BONIFACIO -21.085556 -49.920556\n",
      "105              PRADOPOLIS -21.338432 -48.114007\n",
      "106                OURINHOS -23.000556 -49.843333\n",
      "107  SAO PAULO - INTERLAGOS -23.724722 -46.678056\n",
      "108                   AVARE -23.099722 -48.945556\n",
      "\n",
      "[109 rows x 3 columns] ['SAO LUIZ DO PARAITINGA', 'IBITINGA', 'OURINHOS', 'BERTIOGA', 'CASA BRANCA', 'CAMPOS DO JORDAO', 'VALPARAISO', 'DRACENA', 'TAUBATE', 'PRADOPOLIS', 'BARUERI', 'SAO PAULO - MIRANTE', 'SAO MIGUEL ARCANJO', 'BRAGANCA PAULISTA', 'BARUERI', 'SAO MIGUEL ARCANJO', 'VOTUPORANGA', 'JALES', 'CAMPOS DO JORDAO', 'PARANAPOEMA', 'MARILIA', 'SAO PAULO - MIRANTE', 'ITUVERAVA', 'IGUAPE', 'VOTUPORANGA', 'SAO LUIS DO PARAITINGA', 'JOSE BONIFACIO', 'ARIRANHA', 'LINS', 'ITUVERAVA', 'SAO PAULO - MIRANTE', 'ARIRANHA', 'SAO SEBASTIAO', 'IBITINGA', 'ITAPEVA', 'VALPARAISO', 'TAUBATE', 'SAO MIGUEL ARCANJO', 'ITAPIRA', 'JOSE BONIFACIO', 'AVARE', 'PRESIDENTE PRUDENTE', 'FRANCA', 'SAO CARLOS', 'REGISTRO', 'ITUVERAVA', 'RANCHARIA', 'ITAPIRA', 'SAO SEBASTIAO', 'BARRETOS', 'OURINHOS', 'ITAPEVA', 'SOROCABA', 'IGUAPE', 'PIRACICABA', 'BRAGANCA PAULISTA', 'CACHOEIRA PAULISTA', 'DRACENA', 'TAUBATE', 'BARRETOS', 'BARRA BONITA', 'BARRA DO TURVO', 'SAO CARLOS', 'BERTIOGA', 'RANCHARIA', 'RANCHARIA', 'PRESIDENTE PRUDENTE', 'SAO LUIS DO PARAITINGA', 'BEBDOURO', 'BEBEDOURO', 'PRESIDENTE PRUDENTE', 'BEBDOURO', 'ITAPEVA', 'BARRA DO TURVO', 'LINS', 'REGISTRO', 'SAO PAULO - INTERLAGOS', 'LINS', 'CASA BRANCA', 'TUPA', 'VOTUPORANGA', 'BEBEDOURO', 'PIRACICABA', 'MARILIA', 'BRAGANCA PAULISTA', 'BERTIOGA', 'BAURU', 'BAURU', 'IGUAPE', 'SOROCABA', 'TUPA', 'CASA BRANCA', 'JALES', 'IBITINGA', 'SAO SIMAO', 'SOROCABA', 'BARUERI', 'BRAGANCA PAULISTA', 'PIRACICABA', 'BRAGANCA PAULISTA', 'BARRA BONITA', 'OURINHOS', 'FRANCA', 'CACHOEIRA PAULISTA', 'JOSE BONIFACIO', 'PRADOPOLIS', 'OURINHOS', 'SAO PAULO - INTERLAGOS', 'AVARE']\n"
     ]
    }
   ],
   "source": [
    "# Pontos \n",
    "points = pd.read_parquet(\"Files/stations_inmet_sp.parquet\")\n",
    "points = points[['STATION', 'LATITUDE', 'LONGITUDE']]\n",
    "stations = [row['STATION'] for index, row in points.iterrows()]\n",
    "print(points, stations)"
   ]
  },
  {
   "cell_type": "code",
   "execution_count": null,
   "id": "bd6181a6",
   "metadata": {},
   "outputs": [],
   "source": [
    "# Lista para armazenar os dados de todas as estações\n",
    "dados_estacoes = []\n",
    "\n",
    "# Iterar sobre as estações\n",
    "for station in stations:\n",
    "    query_sp = session.query(INMET).filter(INMET.STATION == station)\n",
    "    dados_estacao = pd.read_sql_query(query_sp.statement, conn)\n",
    "    dados_estacoes.append(dados_estacao)\n",
    "\n",
    "# Concatenar todos os DataFrames em um único DataFrame\n",
    "banco_inmet_unique = pd.concat(dados_estacoes, ignore_index=True)\n"
   ]
  },
  {
   "cell_type": "code",
   "execution_count": 26,
   "id": "24620846",
   "metadata": {},
   "outputs": [
    {
     "name": "stdout",
     "output_type": "stream",
     "text": [
      "              KEY       DATE  CODE   LATITUDE  LONGITUDE  \\\n",
      "0  2022-01-01A740 2022-01-01  A740 -23.228333 -45.416944   \n",
      "1  2022-01-02A740 2022-01-02  A740 -23.228333 -45.416944   \n",
      "2  2022-01-03A740 2022-01-03  A740 -23.228333 -45.416944   \n",
      "3  2022-01-04A740 2022-01-04  A740 -23.228333 -45.416944   \n",
      "4  2022-01-05A740 2022-01-05  A740 -23.228333 -45.416944   \n",
      "\n",
      "                  STATION  UF  PPT_mm  \n",
      "0  SAO LUIZ DO PARAITINGA  SP     0.0  \n",
      "1  SAO LUIZ DO PARAITINGA  SP     0.0  \n",
      "2  SAO LUIZ DO PARAITINGA  SP     0.0  \n",
      "3  SAO LUIZ DO PARAITINGA  SP     0.0  \n",
      "4  SAO LUIZ DO PARAITINGA  SP     0.0  \n"
     ]
    }
   ],
   "source": [
    "print(banco_inmet_unique.head())"
   ]
  }
 ],
 "metadata": {
  "kernelspec": {
   "display_name": "Python 3 (ipykernel)",
   "language": "python",
   "name": "python3"
  },
  "language_info": {
   "codemirror_mode": {
    "name": "ipython",
    "version": 3
   },
   "file_extension": ".py",
   "mimetype": "text/x-python",
   "name": "python",
   "nbconvert_exporter": "python",
   "pygments_lexer": "ipython3",
   "version": "3.10.12"
  }
 },
 "nbformat": 4,
 "nbformat_minor": 5
}
