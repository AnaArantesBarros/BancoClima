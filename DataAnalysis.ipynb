{
 "cells": [
  {
   "cell_type": "markdown",
   "id": "2c04a80f-e94d-43b0-8035-834a3b8c0307",
   "metadata": {},
   "source": [
    "INMET INFO"
   ]
  },
  {
   "cell_type": "code",
   "execution_count": null,
   "id": "ce2d9509-b427-49e7-a1b4-fbb932ab5d4d",
   "metadata": {},
   "outputs": [],
   "source": [
    "import os\n",
    "import pandas as pd\n",
    "from ppt.config.database.tables import INMET\n",
    "from ppt.config.database.connector import (generate_database_engine,\n",
    "                                           generate_database_session)\n",
    "\n",
    "#Conectando ao banco postgres e baixando tabelas\n",
    "session = generate_database_session()\n",
    "conn = generate_database_engine()\n",
    "banco_inmet = pd.read_sql_query(session.query(INMET).statement,conn)\n",
    "\n",
    "#Salvando caminho da pasta de aqruivos\n",
    "path_files = str(os.path.dirname(os.path.realpath(__file__))) + '/Files'"
   ]
  },
  {
   "cell_type": "markdown",
   "id": "f8add1cc",
   "metadata": {},
   "source": [
    "# Encontrando Estações Metereologicas\n",
    "Para comparar a precipitação estimada por satélites com a precipitação real, primeiro precisamos extrair as coordenadas de todas as estações listadas na base de dados do INMET. Essas informações serão salvas em um arquivo Parquet. Em seguida, os dados dos satélites serão lidos e os valores correspondentes serão extraídos para outra tabela no banco de dados PostgreSQL."
   ]
  },
  {
   "cell_type": "code",
   "execution_count": 24,
   "id": "155742b8",
   "metadata": {},
   "outputs": [
    {
     "name": "stdout",
     "output_type": "stream",
     "text": [
      "             STATION   LATITUDE  LONGITUDE\n",
      "0           BRASILIA -15.789444 -47.925833\n",
      "1  ECOLOGIA AGRICOLA -22.800000 -43.683333\n",
      "2             MANAUS  -3.103333 -60.016389\n",
      "3           SALVADOR -13.016667 -38.516667\n",
      "4       PORTO ALEGRE -30.050000 -51.166667\n"
     ]
    }
   ],
   "source": [
    "ESTACOES = banco_inmet[['STATION', 'LATITUDE', 'LONGITUDE']].value_counts().reset_index()\n",
    "ESTACOES = ESTACOES.drop('count',axis=1)\n",
    "\n",
    "print(ESTACOES)"
   ]
  },
  {
   "cell_type": "code",
   "execution_count": null,
   "id": "2f15aa1d-cbbe-4836-bc4f-4865424aa0df",
   "metadata": {},
   "outputs": [],
   "source": []
  }
 ],
 "metadata": {
  "kernelspec": {
   "display_name": "Python 3 (ipykernel)",
   "language": "python",
   "name": "python3"
  },
  "language_info": {
   "codemirror_mode": {
    "name": "ipython",
    "version": 3
   },
   "file_extension": ".py",
   "mimetype": "text/x-python",
   "name": "python",
   "nbconvert_exporter": "python",
   "pygments_lexer": "ipython3",
   "version": "3.10.12"
  }
 },
 "nbformat": 4,
 "nbformat_minor": 5
}
